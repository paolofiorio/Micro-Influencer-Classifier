{
  "nbformat": 4,
  "nbformat_minor": 0,
  "metadata": {
    "colab": {
      "name": "7_InstagramModelSelection.ipynb",
      "provenance": [],
      "collapsed_sections": [],
      "toc_visible": true,
      "authorship_tag": "ABX9TyOIPnyoK7rlkWzWDgwym5+V",
      "include_colab_link": true
    },
    "kernelspec": {
      "name": "python3",
      "display_name": "Python 3"
    },
    "language_info": {
      "name": "python"
    }
  },
  "cells": [
    {
      "cell_type": "markdown",
      "metadata": {
        "id": "view-in-github",
        "colab_type": "text"
      },
      "source": [
        "<a href=\"https://colab.research.google.com/github/paolofiorio/Micro-Influencer-Classifier/blob/main/7_InstagramModelSelection.ipynb\" target=\"_parent\"><img src=\"https://colab.research.google.com/assets/colab-badge.svg\" alt=\"Open In Colab\"/></a>"
      ]
    },
    {
      "cell_type": "markdown",
      "source": [
        "# IMPORTS"
      ],
      "metadata": {
        "id": "ptx8MGFPRRQn"
      }
    },
    {
      "cell_type": "code",
      "execution_count": null,
      "metadata": {
        "id": "-543x-N_jEvz"
      },
      "outputs": [],
      "source": [
        "import pandas as pd\n",
        "import csv\n",
        "import os\n",
        "pd.set_option('display.max_rows', None)\n",
        "import sklearn\n",
        "from sklearn import svm\n",
        "from sklearn.feature_extraction.text import CountVectorizer\n",
        "from sklearn.model_selection import train_test_split\n",
        "from sklearn.naive_bayes import MultinomialNB\n",
        "from sklearn.pipeline import Pipeline\n",
        "from sklearn.feature_extraction.text import TfidfVectorizer,CountVectorizer,ENGLISH_STOP_WORDS,TfidfTransformer\n",
        "from sklearn.preprocessing import LabelEncoder\n",
        "from sklearn.metrics import confusion_matrix, classification_report, accuracy_score\n",
        "from sklearn.ensemble import RandomForestClassifier\n",
        "from sklearn.neural_network import MLPClassifier\n",
        "from sklearn.linear_model import LogisticRegression\n",
        "from sklearn.linear_model import SGDClassifier\n",
        "from sklearn.model_selection import GridSearchCV\n",
        "import torch\n",
        "!pip install xgboost==1.5.1\n",
        "from xgboost import XGBClassifier\n",
        "import pickle"
      ]
    },
    {
      "cell_type": "code",
      "source": [
        "# Clone github repository with data\n",
        "if not os.path.isdir('./Thesis'):\n",
        "  #!git clone repository_url\n",
        "  #!mv '' 'Thesis'"
      ],
      "metadata": {
        "id": "EFkxHfX-jZyq"
      },
      "execution_count": null,
      "outputs": []
    },
    {
      "cell_type": "code",
      "source": [
        "#import csv\n",
        "df = pd.read_csv('Thesis/usersInstagramSentiment.csv')\n",
        "df.info()"
      ],
      "metadata": {
        "id": "8NUQ-dFDjZ2b"
      },
      "execution_count": null,
      "outputs": []
    },
    {
      "cell_type": "markdown",
      "source": [
        "# MICRO CLASSIFICATION SECTION"
      ],
      "metadata": {
        "id": "xgsXmSVBHQ0h"
      }
    },
    {
      "cell_type": "code",
      "source": [
        "#dataframe for general micro classification\n",
        "df1 = df.drop(columns=['id','username','caption','urls','topic','picsText','language','scores','microTopic'])\n",
        "df1.head()"
      ],
      "metadata": {
        "id": "WZc6veqUjZ9u"
      },
      "execution_count": null,
      "outputs": []
    },
    {
      "cell_type": "markdown",
      "source": [
        "## RANDOM FOREST"
      ],
      "metadata": {
        "id": "uKreP5D-pOJ_"
      }
    },
    {
      "cell_type": "code",
      "source": [
        "y = df1['micro']\n",
        "X = df1.loc[:, [\"followers\", \"followers_per_media\",\"followers_following_ratio\",\"interactions\",\"topicInCaptionsPercentage\", \"topicInWordsPercentage\", \"topicInPicsPercentage\",\"topicInPicsWordsPercentage\",\n",
        "\"positiveSentimentCaptions\",\"neutralSentimentCaptions\" ,\"negativeSentimentCaptions\",\"positiveSentimentPics\",\"neutralSentimentPics\" ,\"negativeSentimentPics\"]]\n",
        "X = X.to_numpy()\n",
        "X_train, X_test, y_train, y_test = train_test_split(X,y ,test_size=0.2, random_state=42)\n",
        "\n",
        "# Create the parameter grid based on the results of random search \n",
        "param_grid = {\n",
        "    'bootstrap': [True,False],\n",
        "    'max_depth': [None,10],\n",
        "    'max_features': ['auto','sqrt'],\n",
        "    'criterion': ['gini','entropy'],\n",
        "    'min_samples_leaf':[1,2],\n",
        "    'min_samples_split': [2,3],\n",
        "    'n_estimators': [200,300]\n",
        "}# Create a based model\n",
        "\n",
        "rf = RandomForestClassifier()# Instantiate the grid search model\n",
        "grid_search = GridSearchCV(estimator = rf, param_grid = param_grid, \n",
        "                           n_jobs = -1, verbose = 2)\n",
        "\n",
        "\n",
        "grid_search.fit(X_train, y_train)\n",
        "grid_search.best_params_"
      ],
      "metadata": {
        "id": "a5ocOdhMkhCV"
      },
      "execution_count": null,
      "outputs": []
    },
    {
      "cell_type": "code",
      "source": [
        "y = df1['micro']\n",
        "X = df1.loc[:, [\"followers\",\"followers_per_media\", \"followers_following_ratio\",\"interactions\",\"topicInCaptionsPercentage\", \"topicInWordsPercentage\", \"topicInPicsPercentage\",\"topicInPicsWordsPercentage\",\n",
        "\"positiveSentimentCaptions\",\"neutralSentimentCaptions\" ,\"negativeSentimentCaptions\",\"positiveSentimentPics\",\"neutralSentimentPics\" ,\"negativeSentimentPics\"]]\n",
        "X = X.to_numpy()\n",
        "X_train, X_test, y_train, y_test = train_test_split(X,y ,test_size=0.2, random_state=42)\n",
        "\n",
        "pipeline = Pipeline([\n",
        "    ('clf', RandomForestClassifier(n_estimators=200, min_samples_split=2, min_samples_leaf=2, criterion = 'gini',\n",
        "                                   max_features='auto', max_depth=None, bootstrap=False)),\n",
        "])\n",
        "\n",
        "# train classifier\n",
        "pipeline.fit(X_train, y_train)\n",
        "\n",
        "# evaluate all steps on test set\n",
        "predicted = pipeline.predict(X_test)\n",
        "\n",
        "print(\"RFC Accuracy Score -> \",accuracy_score(predicted, y_test)*100)\n",
        "print(\"Train accuracy ->\", accuracy_score(pipeline.predict(X_train), y_train)*100)\n",
        "tn, fp, fn, tp = confusion_matrix(y_test,predicted).ravel()\n",
        "print(\"tn, fp, fn, tp\", (tn, fp, fn, tp) )\n",
        "\n",
        "target_names = ['not_micro_influencer', 'micro_influencer']\n",
        "print(classification_report(y_test, predicted, target_names=target_names))"
      ],
      "metadata": {
        "id": "Mjqc92bckg5F"
      },
      "execution_count": null,
      "outputs": []
    },
    {
      "cell_type": "markdown",
      "source": [
        "## XGBOOST"
      ],
      "metadata": {
        "id": "aYjSjmd4pTQL"
      }
    },
    {
      "cell_type": "code",
      "source": [
        "y = df1['micro']\n",
        "X = df1.loc[:, [\"followers\", \"followers_per_media\",\"followers_following_ratio\",\"interactions\",\"topicInCaptionsPercentage\", \"topicInWordsPercentage\", \"topicInPicsPercentage\",\"topicInPicsWordsPercentage\",\n",
        "\"positiveSentimentCaptions\",\"neutralSentimentCaptions\" ,\"negativeSentimentCaptions\",\"positiveSentimentPics\",\"neutralSentimentPics\" ,\"negativeSentimentPics\"]]\n",
        "X = X.to_numpy()\n",
        "X_train, X_test, y_train, y_test = train_test_split(X,y ,test_size=0.2, random_state=42)\n",
        "\n",
        "param_grid = {\n",
        "    'booster': ['gbtree'],\n",
        "    'learning_rate':[0.01],\n",
        "    'max_depth': [2,4],\n",
        "    'min_child_weight':[0.01, 0.5],\n",
        "    'gamma': [0, 0.5],\n",
        "    'n_estimators': [100,200],\n",
        "    'alpha': [0,0.5],\n",
        "}# Create a based model\n",
        "rf = XGBClassifier()# Instantiate the grid search model\n",
        "grid_search = GridSearchCV(estimator = rf, param_grid = param_grid, \n",
        "                           n_jobs = -1, verbose = 2)\n",
        "\n",
        "\n",
        "grid_search.fit(X_train, y_train)\n",
        "grid_search.best_params_"
      ],
      "metadata": {
        "id": "3tpP_XI5kgtE"
      },
      "execution_count": null,
      "outputs": []
    },
    {
      "cell_type": "code",
      "source": [
        "y = df1['micro']\n",
        "X = df1.loc[:, [\"followers\", \"followers_per_media\",\"followers_following_ratio\",\"interactions\",\"topicInCaptionsPercentage\", \"topicInWordsPercentage\", \"topicInPicsPercentage\",\"topicInPicsWordsPercentage\",\n",
        "\"positiveSentimentCaptions\",\"neutralSentimentCaptions\" ,\"negativeSentimentCaptions\",\"positiveSentimentPics\",\"neutralSentimentPics\" ,\"negativeSentimentPics\"]]\n",
        "X = X.to_numpy()\n",
        "X_train, X_test, y_train, y_test = train_test_split(X,y ,test_size=0.2, random_state=42)\n",
        "\n",
        "model_micro = XGBClassifier(alpha=0, booster ='gbtree',gamma = 0, learning_rate=0.01, max_depth=4, min_child_weight=0.01, n_estimators= 100 )\n",
        "# train classifier\n",
        "model_micro.fit(X_train, y_train)\n",
        "\n",
        "# evaluate all steps on test set\n",
        "predicted = model_micro.predict(X_test)\n",
        "\n",
        "print(\"RFC Accuracy Score -> \",accuracy_score(predicted, y_test)*100)\n",
        "print(\"Train accuracy ->\", accuracy_score(model_micro.predict(X_train), y_train)*100)\n",
        "tn, fp, fn, tp = confusion_matrix(y_test,predicted).ravel()\n",
        "print(\"tn, fp, fn, tp\", (tn, fp, fn, tp) )\n",
        "\n",
        "target_names = ['not_micro_influencer', 'micro_influencer']\n",
        "print(classification_report(y_test, predicted, target_names=target_names))\n",
        "\n",
        "#model_micro.save_model(\"modelMicroInstagramCOCO.json\")"
      ],
      "metadata": {
        "id": "ce1MDgpupkH2"
      },
      "execution_count": null,
      "outputs": []
    },
    {
      "cell_type": "code",
      "source": [
        "Pkl_Filename = \"Pickle_XGB_Model_InstagramCOCO.pkl\"  \n",
        "\n",
        "with open(Pkl_Filename, 'wb') as file:  \n",
        "    pickle.dump(model_micro, file)"
      ],
      "metadata": {
        "id": "a0yoqlvnpj5o"
      },
      "execution_count": null,
      "outputs": []
    },
    {
      "cell_type": "markdown",
      "source": [
        "## SVC"
      ],
      "metadata": {
        "id": "8OHVZnzyDq_t"
      }
    },
    {
      "cell_type": "code",
      "source": [
        "y = df1['micro']\n",
        "X = df1.loc[:, [\"followers\", \"followers_per_media\",\"followers_following_ratio\",\"interactions\",\"topicInCaptionsPercentage\", \"topicInWordsPercentage\", \"topicInPicsPercentage\",\"topicInPicsWordsPercentage\",\n",
        "\"positiveSentimentCaptions\",\"neutralSentimentCaptions\" ,\"negativeSentimentCaptions\",\"positiveSentimentPics\",\"neutralSentimentPics\" ,\"negativeSentimentPics\"]]\n",
        "X = X.to_numpy()\n",
        "X_train, X_test, y_train, y_test = train_test_split(X,y ,test_size=0.2, random_state=42)\n",
        "\n",
        "param_grid = {\n",
        "    'penalty': ['l1','l2'],\n",
        "    'loss':['hinge', 'squared_hinge'],\n",
        "    'C': [0.1,0.5,1,10,100,1000,2000],\n",
        "    'dual': [False]\n",
        "   \n",
        "}# Create a based model\n",
        "rf = svm.LinearSVC()# Instantiate the grid search model\n",
        "grid_search = GridSearchCV(estimator = rf, param_grid = param_grid, \n",
        "                           n_jobs = -1, verbose = 2)\n",
        "\n",
        "\n",
        "grid_search.fit(X_train, y_train)\n",
        "grid_search.best_params_"
      ],
      "metadata": {
        "id": "kdMxsGuxDsc6"
      },
      "execution_count": null,
      "outputs": []
    },
    {
      "cell_type": "code",
      "source": [
        "y = df1['micro']\n",
        "X = df1.loc[:, [\"followers\",\"followers_per_media\", \"followers_following_ratio\",\"interactions\",\"topicInCaptionsPercentage\", \"topicInWordsPercentage\", \"topicInPicsPercentage\",\"topicInPicsWordsPercentage\",\n",
        "\"positiveSentimentCaptions\",\"neutralSentimentCaptions\" ,\"negativeSentimentCaptions\",\"positiveSentimentPics\",\"neutralSentimentPics\" ,\"negativeSentimentPics\"]]\n",
        "X = X.to_numpy()\n",
        "X_train, X_test, y_train, y_test = train_test_split(X,y ,test_size=0.2, random_state=42)\n",
        "\n",
        "pipeline = Pipeline([\n",
        "    ('clf', svm.LinearSVC(C=1, loss='squared_hinge', penalty= 'l1', dual = False)),\n",
        "])\n",
        "\n",
        "# train classifier\n",
        "pipeline.fit(X_train, y_train)\n",
        "\n",
        "# evaluate all steps on test set\n",
        "predicted = pipeline.predict(X_test)\n",
        "\n",
        "print(\"LINEAR SVC PIPELINE Accuracy Score -> \",accuracy_score(predicted, y_test)*100)\n",
        "print(\"Train accuracy ->\", accuracy_score(pipeline.predict(X_train), y_train)*100)\n",
        "tn, fp, fn, tp = confusion_matrix(y_test,predicted).ravel()\n",
        "print(\"tn, fp, fn, tp\", (tn, fp, fn, tp) )\n",
        "\n",
        "target_names = ['not_micro_influencer', 'micro_influencer']\n",
        "print(classification_report(y_test, predicted, target_names=target_names))"
      ],
      "metadata": {
        "id": "BRXgRT3gDzrV"
      },
      "execution_count": null,
      "outputs": []
    },
    {
      "cell_type": "markdown",
      "source": [
        "## MLP"
      ],
      "metadata": {
        "id": "vqd0tu5nETTx"
      }
    },
    {
      "cell_type": "code",
      "source": [
        "y = df1['micro']\n",
        "X = df1.loc[:, [\"followers\", \"followers_per_media\",\"followers_following_ratio\",\"interactions\",\"topicInCaptionsPercentage\", \"topicInWordsPercentage\", \"topicInPicsPercentage\",\"topicInPicsWordsPercentage\",\n",
        "\"positiveSentimentCaptions\",\"neutralSentimentCaptions\" ,\"negativeSentimentCaptions\",\"positiveSentimentPics\",\"neutralSentimentPics\" ,\"negativeSentimentPics\"]]\n",
        "X = X.to_numpy()\n",
        "X_train, X_test, y_train, y_test = train_test_split(X,y ,test_size=0.2, random_state=42)\n",
        "\n",
        "param_grid = {\n",
        "    'activation': ['identity','logistic', 'tanh', 'relu'],\n",
        "    'solver':['lbfgs', 'sgd', 'adam'],\n",
        "    'learning_rate': ['constant', 'invscaling'],\n",
        "    'max_iter': [300,400,500,600]\n",
        "    \n",
        "   \n",
        "}# Create a based model\n",
        "rf = MLPClassifier()# Instantiate the grid search model\n",
        "grid_search = GridSearchCV(estimator = rf, param_grid = param_grid, \n",
        "                           n_jobs = -1, verbose = 2)\n",
        "\n",
        "\n",
        "grid_search.fit(X_train, y_train)\n",
        "grid_search.best_params_"
      ],
      "metadata": {
        "id": "OGjiu8KdEUVF"
      },
      "execution_count": null,
      "outputs": []
    },
    {
      "cell_type": "code",
      "source": [
        "y = df1['micro']\n",
        "X = df1.loc[:, [\"followers\", \"followers_per_media\",\"followers_following_ratio\",\"interactions\",\"topicInCaptionsPercentage\", \"topicInWordsPercentage\", \"topicInPicsPercentage\",\"topicInPicsWordsPercentage\",\n",
        "\"positiveSentimentCaptions\",\"neutralSentimentCaptions\" ,\"negativeSentimentCaptions\",\"positiveSentimentPics\",\"neutralSentimentPics\" ,\"negativeSentimentPics\"]]\n",
        "X = X.to_numpy()\n",
        "X_train, X_test, y_train, y_test = train_test_split(X,y ,test_size=0.2, random_state=42)\n",
        "\n",
        "pipeline = Pipeline([\n",
        "    ('clf', MLPClassifier(activation='logistic', learning_rate='invscaling', max_iter=400, solver='lbfgs')),\n",
        "])\n",
        "\n",
        "# train classifier\n",
        "pipeline.fit(X_train, y_train)\n",
        "\n",
        "# evaluate all steps on test set\n",
        "predicted = pipeline.predict(X_test)\n",
        "\n",
        "print(\"MLP PIPELINE Accuracy Score -> \",accuracy_score(predicted, y_test)*100)\n",
        "print(\"Train accuracy ->\", accuracy_score(pipeline.predict(X_train), y_train)*100)\n",
        "tn, fp, fn, tp = confusion_matrix(y_test,predicted).ravel()\n",
        "print(\"tn, fp, fn, tp\", (tn, fp, fn, tp) )\n",
        "\n",
        "target_names = ['not_micro_influencer', 'micro_influencer']\n",
        "print(classification_report(y_test, predicted, target_names=target_names))"
      ],
      "metadata": {
        "id": "h2t3PvGuEbWo"
      },
      "execution_count": null,
      "outputs": []
    },
    {
      "cell_type": "markdown",
      "source": [
        "## LOGISTIC REGRESSION"
      ],
      "metadata": {
        "id": "VDKvTAWoGUz5"
      }
    },
    {
      "cell_type": "code",
      "source": [
        "y = df1['micro']\n",
        "X = df1.loc[:, [\"followers\", \"followers_per_media\",\"followers_following_ratio\",\"interactions\",\"topicInCaptionsPercentage\", \"topicInWordsPercentage\", \"topicInPicsPercentage\",\"topicInPicsWordsPercentage\",\n",
        "\"positiveSentimentCaptions\",\"neutralSentimentCaptions\" ,\"negativeSentimentCaptions\",\"positiveSentimentPics\",\"neutralSentimentPics\" ,\"negativeSentimentPics\"]]\n",
        "X = X.to_numpy()\n",
        "X_train, X_test, y_train, y_test = train_test_split(X,y ,test_size=0.2, random_state=42)\n",
        "\n",
        "param_grid = {\n",
        "    'penalty': ['l1','l2', 'elasticnet', 'none'],\n",
        "    'solver':['newton-cg', 'lbfgs', 'liblinear', 'sag', 'saga'],\n",
        "    'C': [1,10,100,1000]\n",
        "    \n",
        "   \n",
        "}# Create a based model\n",
        "rf = LogisticRegression()# Instantiate the grid search model\n",
        "grid_search = GridSearchCV(estimator = rf, param_grid = param_grid, \n",
        "                           n_jobs = -1, verbose = 2)\n",
        "\n",
        "\n",
        "grid_search.fit(X_train, y_train)\n",
        "grid_search.best_params_"
      ],
      "metadata": {
        "id": "fJ55_m2IGX99"
      },
      "execution_count": null,
      "outputs": []
    },
    {
      "cell_type": "code",
      "source": [
        "y = df1['micro']\n",
        "X = df1.loc[:, [\"followers\",\"followers_per_media\", \"followers_following_ratio\",\"interactions\",\"topicInCaptionsPercentage\", \"topicInWordsPercentage\", \"topicInPicsPercentage\",\"topicInPicsWordsPercentage\",\n",
        "\"positiveSentimentCaptions\",\"neutralSentimentCaptions\" ,\"negativeSentimentCaptions\",\"positiveSentimentPics\",\"neutralSentimentPics\" ,\"negativeSentimentPics\"]]\n",
        "X = X.to_numpy()\n",
        "\n",
        "X_train, X_test, y_train, y_test = train_test_split(X,y ,test_size=0.2, random_state=42)\n",
        "\n",
        "pipeline = Pipeline([\n",
        "    ('clf', LogisticRegression(C=1, penalty = 'none', solver = 'newton-cg')),\n",
        "])\n",
        "\n",
        "# train classifier\n",
        "pipeline.fit(X_train, y_train)\n",
        "\n",
        "# evaluate all steps on test set\n",
        "predicted = pipeline.predict(X_test)\n",
        "\n",
        "print(\"LOG REG PIPELINE Accuracy Score -> \",accuracy_score(predicted, y_test)*100)\n",
        "print(\"Train accuracy ->\", accuracy_score(pipeline.predict(X_train), y_train)*100)\n",
        "tn, fp, fn, tp = confusion_matrix(y_test,predicted).ravel()\n",
        "print(\"tn, fp, fn, tp\", (tn, fp, fn, tp) )\n",
        "\n",
        "target_names = ['not_micro_influencer', 'micro_influencer']\n",
        "print(classification_report(y_test, predicted, target_names=target_names))"
      ],
      "metadata": {
        "id": "bje5GuIXGhTh"
      },
      "execution_count": null,
      "outputs": []
    },
    {
      "cell_type": "markdown",
      "source": [
        "## SGD"
      ],
      "metadata": {
        "id": "U3pjV1ELKeea"
      }
    },
    {
      "cell_type": "code",
      "source": [
        "y = df1['micro']\n",
        "X = df1.loc[:, [\"followers\",\"followers_per_media\", \"followers_following_ratio\",\"interactions\",\"topicInCaptionsPercentage\", \"topicInWordsPercentage\", \"topicInPicsPercentage\",\"topicInPicsWordsPercentage\",\n",
        "\"positiveSentimentCaptions\",\"neutralSentimentCaptions\" ,\"negativeSentimentCaptions\",\"positiveSentimentPics\",\"neutralSentimentPics\" ,\"negativeSentimentPics\"]]\n",
        "X = X.to_numpy()\n",
        "\n",
        "X_train, X_test, y_train, y_test = train_test_split(X,y ,test_size=0.2, random_state=42)\n",
        "\n",
        "param_grid = {\n",
        "    'penalty': ['l1','l2', 'elasticnet'],\n",
        "    'learning_rate': ['constant', 'invscaling','optimal','adaptive'],\n",
        "    \n",
        "   \n",
        "}# Create a based model\n",
        "rf = SGDClassifier()# Instantiate the grid search model\n",
        "grid_search = GridSearchCV(estimator = rf, param_grid = param_grid, \n",
        "                           n_jobs = -1, verbose = 2)\n",
        "\n",
        "\n",
        "grid_search.fit(X_train, y_train)\n",
        "grid_search.best_params_"
      ],
      "metadata": {
        "id": "kbd0v9iXKgU7"
      },
      "execution_count": null,
      "outputs": []
    },
    {
      "cell_type": "code",
      "source": [
        "y = df1['micro']\n",
        "X = df1.loc[:, [\"followers\",\"followers_per_media\", \"followers_following_ratio\",\"interactions\",\"topicInCaptionsPercentage\", \"topicInWordsPercentage\", \"topicInPicsPercentage\",\"topicInPicsWordsPercentage\",\n",
        "\"positiveSentimentCaptions\",\"neutralSentimentCaptions\" ,\"negativeSentimentCaptions\",\"positiveSentimentPics\",\"neutralSentimentPics\" ,\"negativeSentimentPics\"]]\n",
        "X = X.to_numpy()\n",
        "X_train, X_test, y_train, y_test = train_test_split(X,y ,test_size=0.2, random_state=42)\n",
        "\n",
        "pipeline = Pipeline([\n",
        "\n",
        "    ('clf', SGDClassifier(learning_rate='optimal', penalty='l1')),\n",
        "])\n",
        "\n",
        "# train classifier\n",
        "pipeline.fit(X_train, y_train)\n",
        "\n",
        "# evaluate all steps on test set\n",
        "predicted = pipeline.predict(X_test)\n",
        "\n",
        "print(\"SGD PIPELINE Accuracy Score -> \",accuracy_score(predicted, y_test)*100)\n",
        "print(\"Train accuracy ->\", accuracy_score(pipeline.predict(X_train), y_train)*100)\n",
        "tn, fp, fn, tp = confusion_matrix(y_test,predicted).ravel()\n",
        "print(\"tn, fp, fn, tp\", (tn, fp, fn, tp) )\n",
        "\n",
        "target_names = ['not_micro_influencer', 'micro_influencer']\n",
        "print(classification_report(y_test, predicted, target_names=target_names))"
      ],
      "metadata": {
        "id": "xPgGbaM0Knki"
      },
      "execution_count": null,
      "outputs": []
    },
    {
      "cell_type": "markdown",
      "source": [
        "# MICRO TOPIC  CLASSIFICATION SECTION"
      ],
      "metadata": {
        "id": "v_RvkHRBHJfZ"
      }
    },
    {
      "cell_type": "code",
      "source": [
        "#dataframe for microTopic classification\n",
        "df2 = df.drop(columns=['id','username','caption','urls','topic','picsText','language','scores','micro'])\n",
        "df2.head()"
      ],
      "metadata": {
        "id": "IERtE9q7kRRx"
      },
      "execution_count": null,
      "outputs": []
    },
    {
      "cell_type": "markdown",
      "source": [
        "## RANDOM FOREST"
      ],
      "metadata": {
        "id": "RBTfgr6spW5r"
      }
    },
    {
      "cell_type": "code",
      "source": [
        "y = df2['microTopic']\n",
        "X = df2.loc[:, [\"followers\",\"followers_per_media\", \"followers_following_ratio\",\"interactions\",\"topicInCaptionsPercentage\", \"topicInWordsPercentage\", \"topicInPicsPercentage\",\"topicInPicsWordsPercentage\",\n",
        "\"positiveSentimentCaptions\",\"neutralSentimentCaptions\" ,\"negativeSentimentCaptions\",\"positiveSentimentPics\",\"neutralSentimentPics\" ,\"negativeSentimentPics\"]]\n",
        "X = X.to_numpy()\n",
        "X_train, X_test, y_train, y_test = train_test_split(X,y ,test_size=0.2, random_state=42)\n",
        "\n",
        "param_grid = {\n",
        "    'bootstrap': [True,False],\n",
        "    'max_depth': [None,10],\n",
        "    'max_features': ['auto','sqrt'],\n",
        "    'criterion': ['gini','entropy'],\n",
        "    'min_samples_leaf':[1,2],\n",
        "    'min_samples_split': [2,3],\n",
        "    'n_estimators': [200,300]\n",
        "}# Create a based model\n",
        "\n",
        "rf = RandomForestClassifier()# Instantiate the grid search model\n",
        "grid_search = GridSearchCV(estimator = rf, param_grid = param_grid, \n",
        "                           n_jobs = -1, verbose = 2)\n",
        "\n",
        "\n",
        "grid_search.fit(X_train, y_train)\n",
        "grid_search.best_params_"
      ],
      "metadata": {
        "id": "mGdGELrUnpsK"
      },
      "execution_count": null,
      "outputs": []
    },
    {
      "cell_type": "code",
      "source": [
        "y = df2['microTopic']\n",
        "X = df2.loc[:, [\"followers\", \"followers_per_media\",\"followers_following_ratio\",\"interactions\",\"topicInCaptionsPercentage\", \"topicInWordsPercentage\", \"topicInPicsPercentage\",\"topicInPicsWordsPercentage\",\n",
        "\"positiveSentimentCaptions\",\"neutralSentimentCaptions\" ,\"negativeSentimentCaptions\",\"positiveSentimentPics\",\"neutralSentimentPics\" ,\"negativeSentimentPics\"]]\n",
        "X = X.to_numpy()\n",
        "X_train, X_test, y_train, y_test = train_test_split(X,y ,test_size=0.2, random_state=42)\n",
        "\n",
        "pipeline = Pipeline([\n",
        "    \n",
        "    ('clf', RandomForestClassifier(n_estimators=300, min_samples_split=2, min_samples_leaf=2, criterion = 'gini',\n",
        "                                   max_features='sqrt', max_depth=None, bootstrap=True)),\n",
        "])\n",
        "\n",
        "# train classifier\n",
        "pipeline.fit(X_train, y_train)\n",
        "\n",
        "# evaluate all steps on test set\n",
        "predicted = pipeline.predict(X_test)\n",
        "\n",
        "print(\"RFC Accuracy Score -> \",accuracy_score(predicted, y_test)*100)\n",
        "print(\"Train accuracy ->\", accuracy_score(pipeline.predict(X_train), y_train)*100)\n",
        "tn, fp, fn, tp = confusion_matrix(y_test,predicted).ravel()\n",
        "print(\"tn, fp, fn, tp\", (tn, fp, fn, tp) )\n",
        "\n",
        "target_names = ['not_micro_influencer', 'micro_influencer']\n",
        "print(classification_report(y_test, predicted, target_names=target_names))"
      ],
      "metadata": {
        "id": "xn4kXmGPnzCk"
      },
      "execution_count": null,
      "outputs": []
    },
    {
      "cell_type": "markdown",
      "source": [
        "## XGBOOST"
      ],
      "metadata": {
        "id": "k5QF5mq4pdXY"
      }
    },
    {
      "cell_type": "code",
      "source": [
        "y = df2['microTopic']\n",
        "X = df2.loc[:, [\"followers\",\"followers_per_media\", \"followers_following_ratio\",\"interactions\",\"topicInCaptionsPercentage\", \"topicInWordsPercentage\", \"topicInPicsPercentage\",\"topicInPicsWordsPercentage\",\n",
        "\"positiveSentimentCaptions\",\"neutralSentimentCaptions\" ,\"negativeSentimentCaptions\",\"positiveSentimentPics\",\"neutralSentimentPics\" ,\"negativeSentimentPics\"]]\n",
        "X = X.to_numpy()\n",
        "X_train, X_test, y_train, y_test = train_test_split(X,y ,test_size=0.2, random_state=42)\n",
        "\n",
        "param_grid = {\n",
        "    'booster': ['gbtree','linear'],\n",
        "    'learning_rate':[0.01],\n",
        "    'max_depth': [4,5],\n",
        "    'min_child_weight':[0,1],\n",
        "    'gamma': [0,1],\n",
        "    'n_estimators': [500,600],\n",
        "    'alpha': [0,1],\n",
        "}# Create a based model\n",
        "rf = XGBClassifier()# Instantiate the grid search model\n",
        "grid_search = GridSearchCV(estimator = rf, param_grid = param_grid, \n",
        "                           n_jobs = -1, verbose = 2)\n",
        "\n",
        "\n",
        "grid_search.fit(X_train, y_train)\n",
        "grid_search.best_params_"
      ],
      "metadata": {
        "id": "iTm1_HT9pfAm"
      },
      "execution_count": null,
      "outputs": []
    },
    {
      "cell_type": "code",
      "source": [
        "y = df2['microTopic']\n",
        "X = df2.loc[:, [\"followers\", \"followers_per_media\",\"followers_following_ratio\",\"interactions\",\"topicInCaptionsPercentage\", \"topicInWordsPercentage\", \"topicInPicsPercentage\",\"topicInPicsWordsPercentage\",\n",
        "\"positiveSentimentCaptions\",\"neutralSentimentCaptions\" ,\"negativeSentimentCaptions\",\"positiveSentimentPics\",\"neutralSentimentPics\" ,\"negativeSentimentPics\"]]\n",
        "X = X.to_numpy()\n",
        "X_train, X_test, y_train, y_test = train_test_split(X,y ,test_size=0.2, random_state=42)\n",
        "\n",
        "model_microTopic = XGBClassifier(alpha=0, booster ='gbtree',gamma = 0, learning_rate=0.01, max_depth=4, min_child_weight=1, n_estimators= 600 )\n",
        "# train classifier\n",
        "model_microTopic.fit(X_train, y_train)\n",
        "\n",
        "# evaluate all steps on test set\n",
        "predicted = model_microTopic.predict(X_test)\n",
        "\n",
        "print(\"RFC Accuracy Score -> \",accuracy_score(predicted, y_test)*100)\n",
        "print(\"Train accuracy ->\", accuracy_score(model_microTopic.predict(X_train), y_train)*100)\n",
        "tn, fp, fn, tp = confusion_matrix(y_test,predicted).ravel()\n",
        "print(\"tn, fp, fn, tp\", (tn, fp, fn, tp) )\n",
        "\n",
        "target_names = ['not_micro_influencer', 'micro_influencer']\n",
        "print(classification_report(y_test, predicted, target_names=target_names))\n",
        "#model_microTopic.save_model(\"modelMicroTopicInstagramCOCO.json\")"
      ],
      "metadata": {
        "id": "DEXsUn026o37"
      },
      "execution_count": null,
      "outputs": []
    },
    {
      "cell_type": "code",
      "source": [
        "Pkl_Filename = \"Pickle_XGB_ModelMicroTopicInstagramCOCO.pkl\"  \n",
        "\n",
        "with open(Pkl_Filename, 'wb') as file:  \n",
        "    pickle.dump(model_microTopic, file)"
      ],
      "metadata": {
        "id": "BmWWsNZpAB2P"
      },
      "execution_count": null,
      "outputs": []
    },
    {
      "cell_type": "markdown",
      "source": [
        "## SVC"
      ],
      "metadata": {
        "id": "oTnHgOgcD-nY"
      }
    },
    {
      "cell_type": "code",
      "source": [
        "y = df2['microTopic']\n",
        "X = df2.loc[:, [\"followers\",\"followers_per_media\", \"followers_following_ratio\",\"interactions\",\"topicInCaptionsPercentage\", \"topicInWordsPercentage\", \"topicInPicsPercentage\",\"topicInPicsWordsPercentage\",\n",
        "\"positiveSentimentCaptions\",\"neutralSentimentCaptions\" ,\"negativeSentimentCaptions\",\"positiveSentimentPics\",\"neutralSentimentPics\" ,\"negativeSentimentPics\"]]\n",
        "X = X.to_numpy()\n",
        "X_train, X_test, y_train, y_test = train_test_split(X,y ,test_size=0.2, random_state=42)\n",
        "\n",
        "param_grid = {\n",
        "    'penalty': ['l1','l2'],\n",
        "    'loss':['hinge', 'squared_hinge'],\n",
        "    'C': [0.1,0.5,1,10,100,1000,2000],\n",
        "    'dual': [False]\n",
        "}# Create a based model\n",
        "rf = svm.LinearSVC()# Instantiate the grid search model\n",
        "grid_search = GridSearchCV(estimator = rf, param_grid = param_grid, \n",
        "                           n_jobs = -1, verbose = 2)\n",
        "\n",
        "\n",
        "grid_search.fit(X_train, y_train)\n",
        "grid_search.best_params_"
      ],
      "metadata": {
        "id": "a3ASyRyiD_cR"
      },
      "execution_count": null,
      "outputs": []
    },
    {
      "cell_type": "code",
      "source": [
        "y = df2['microTopic']\n",
        "X = df2.loc[:, [\"followers\",\"followers_per_media\", \"followers_following_ratio\",\"interactions\",\"topicInCaptionsPercentage\", \"topicInWordsPercentage\", \"topicInPicsPercentage\",\"topicInPicsWordsPercentage\",\n",
        "\"positiveSentimentCaptions\",\"neutralSentimentCaptions\" ,\"negativeSentimentCaptions\",\"positiveSentimentPics\",\"neutralSentimentPics\" ,\"negativeSentimentPics\"]]\n",
        "X = X.to_numpy()\n",
        "X_train, X_test, y_train, y_test = train_test_split(X,y ,test_size=0.2, random_state=42)\n",
        "\n",
        "pipeline = Pipeline([\n",
        "    ('clf', svm.LinearSVC(C=0.1, loss='squared_hinge', penalty= 'l1', dual = False)),\n",
        "])\n",
        "\n",
        "# train classifier\n",
        "pipeline.fit(X_train, y_train)\n",
        "\n",
        "# evaluate all steps on test set\n",
        "predicted = pipeline.predict(X_test)\n",
        "\n",
        "print(\"LINEAR SVC PIPELINE Accuracy Score -> \",accuracy_score(predicted, y_test)*100)\n",
        "print(\"Train accuracy ->\", accuracy_score(pipeline.predict(X_train), y_train)*100)\n",
        "tn, fp, fn, tp = confusion_matrix(y_test,predicted).ravel()\n",
        "print(\"tn, fp, fn, tp\", (tn, fp, fn, tp) )\n",
        "\n",
        "target_names = ['not_micro_influencer', 'micro_influencer']\n",
        "print(classification_report(y_test, predicted, target_names=target_names))"
      ],
      "metadata": {
        "id": "RSeQqytzEFVB"
      },
      "execution_count": null,
      "outputs": []
    },
    {
      "cell_type": "markdown",
      "source": [
        "## MLP"
      ],
      "metadata": {
        "id": "T31sXBqWIDEF"
      }
    },
    {
      "cell_type": "code",
      "source": [
        "y = df2['microTopic']\n",
        "X = df2.loc[:, [\"followers\", \"followers_per_media\",\"followers_following_ratio\",\"interactions\",\"topicInCaptionsPercentage\", \"topicInWordsPercentage\", \"topicInPicsPercentage\",\"topicInPicsWordsPercentage\",\n",
        "\"positiveSentimentCaptions\",\"neutralSentimentCaptions\" ,\"negativeSentimentCaptions\",\"positiveSentimentPics\",\"neutralSentimentPics\" ,\"negativeSentimentPics\"]]\n",
        "X = X.to_numpy()\n",
        "X_train, X_test, y_train, y_test = train_test_split(X,y ,test_size=0.2, random_state=42)\n",
        "\n",
        "param_grid = {\n",
        "    'activation': ['identity','logistic', 'tanh', 'relu'],\n",
        "    'solver':['lbfgs', 'sgd', 'adam'],\n",
        "    'learning_rate': ['constant', 'invscaling'],\n",
        "    'max_iter': [500,600]\n",
        "    \n",
        "   \n",
        "}# Create a based model\n",
        "rf = MLPClassifier()# Instantiate the grid search model\n",
        "grid_search = GridSearchCV(estimator = rf, param_grid = param_grid, \n",
        "                           n_jobs = -1, verbose = 2)\n",
        "\n",
        "\n",
        "grid_search.fit(X_train, y_train)\n",
        "grid_search.best_params_"
      ],
      "metadata": {
        "id": "jlFOvlE9IEgd"
      },
      "execution_count": null,
      "outputs": []
    },
    {
      "cell_type": "code",
      "source": [
        "y = df2['microTopic']\n",
        "X = df2.loc[:, [\"followers\",\"followers_per_media\", \"followers_following_ratio\",\"interactions\",\"topicInCaptionsPercentage\", \"topicInWordsPercentage\", \"topicInPicsPercentage\",\"topicInPicsWordsPercentage\",\n",
        "\"positiveSentimentCaptions\",\"neutralSentimentCaptions\" ,\"negativeSentimentCaptions\",\"positiveSentimentPics\",\"neutralSentimentPics\" ,\"negativeSentimentPics\"]]\n",
        "X = X.to_numpy()\n",
        "\n",
        "X_train, X_test, y_train, y_test = train_test_split(X,y ,test_size=0.2, random_state=42)\n",
        "\n",
        "pipeline = Pipeline([\n",
        "    ('clf', MLPClassifier(activation='logistic', learning_rate='invscaling', max_iter=500, solver='lbfgs')),\n",
        "])\n",
        "\n",
        "# train classifier\n",
        "pipeline.fit(X_train, y_train)\n",
        "\n",
        "# evaluate all steps on test set\n",
        "predicted = pipeline.predict(X_test)\n",
        "\n",
        "print(\"MLP PIPELINE Accuracy Score -> \",accuracy_score(predicted, y_test)*100)\n",
        "print(\"Train accuracy ->\", accuracy_score(pipeline.predict(X_train), y_train)*100)\n",
        "tn, fp, fn, tp = confusion_matrix(y_test,predicted).ravel()\n",
        "print(\"tn, fp, fn, tp\", (tn, fp, fn, tp) )\n",
        "\n",
        "target_names = ['not_micro_influencer', 'micro_influencer']\n",
        "print(classification_report(y_test, predicted, target_names=target_names))"
      ],
      "metadata": {
        "id": "lW5ocO45IOkA"
      },
      "execution_count": null,
      "outputs": []
    },
    {
      "cell_type": "markdown",
      "source": [
        "## LOGISTIC REGRESSION"
      ],
      "metadata": {
        "id": "EB0R0CvsG1ef"
      }
    },
    {
      "cell_type": "code",
      "source": [
        "y = df2['microTopic']\n",
        "X = df2.loc[:, [\"followers\",\"followers_per_media\", \"followers_following_ratio\",\"interactions\",\"topicInCaptionsPercentage\", \"topicInWordsPercentage\", \"topicInPicsPercentage\",\"topicInPicsWordsPercentage\",\n",
        "\"positiveSentimentCaptions\",\"neutralSentimentCaptions\" ,\"negativeSentimentCaptions\",\"positiveSentimentPics\",\"neutralSentimentPics\" ,\"negativeSentimentPics\"]]\n",
        "X = X.to_numpy()\n",
        "X_train, X_test, y_train, y_test = train_test_split(X,y ,test_size=0.2, random_state=42)\n",
        "\n",
        "param_grid = {\n",
        "    'penalty': ['l1','l2', 'elasticnet', 'none'],\n",
        "    'solver':['newton-cg', 'lbfgs', 'liblinear', 'sag', 'saga'],\n",
        "    'C': [1,10,100,1000]\n",
        "    \n",
        "   \n",
        "}# Create a based model\n",
        "rf = LogisticRegression()# Instantiate the grid search model\n",
        "grid_search = GridSearchCV(estimator = rf, param_grid = param_grid, \n",
        "                           n_jobs = -1, verbose = 2)\n",
        "\n",
        "\n",
        "grid_search.fit(X_train, y_train)\n",
        "grid_search.best_params_"
      ],
      "metadata": {
        "id": "WzmYVbnMG3bz"
      },
      "execution_count": null,
      "outputs": []
    },
    {
      "cell_type": "code",
      "source": [
        "y = df2['microTopic']\n",
        "X = df2.loc[:, [\"followers\",\"followers_per_media\", \"followers_following_ratio\",\"interactions\",\"topicInCaptionsPercentage\", \"topicInWordsPercentage\", \"topicInPicsPercentage\",\"topicInPicsWordsPercentage\",\n",
        "\"positiveSentimentCaptions\",\"neutralSentimentCaptions\" ,\"negativeSentimentCaptions\",\"positiveSentimentPics\",\"neutralSentimentPics\" ,\"negativeSentimentPics\"]]\n",
        "X = X.to_numpy()\n",
        "X_train, X_test, y_train, y_test = train_test_split(X,y ,test_size=0.2, random_state=42)\n",
        "\n",
        "pipeline = Pipeline([\n",
        "    ('clf', LogisticRegression(C=1, penalty='l1', solver='liblinear')),\n",
        "])\n",
        "\n",
        "# train classifier\n",
        "pipeline.fit(X_train, y_train)\n",
        "\n",
        "# evaluate all steps on test set\n",
        "predicted = pipeline.predict(X_test)\n",
        "\n",
        "print(\"LOG REG PIPELINE Accuracy Score -> \",accuracy_score(predicted, y_test)*100)\n",
        "print(\"Train accuracy ->\", accuracy_score(pipeline.predict(X_train), y_train)*100)\n",
        "tn, fp, fn, tp = confusion_matrix(y_test,predicted).ravel()\n",
        "print(\"tn, fp, fn, tp\", (tn, fp, fn, tp) )\n",
        "\n",
        "target_names = ['not_micro_influencer', 'micro_influencer']\n",
        "print(classification_report(y_test, predicted, target_names=target_names))"
      ],
      "metadata": {
        "id": "Pf5qC1VDG3u2"
      },
      "execution_count": null,
      "outputs": []
    },
    {
      "cell_type": "markdown",
      "source": [
        "## SGD"
      ],
      "metadata": {
        "id": "z5MMtlEAKv1P"
      }
    },
    {
      "cell_type": "code",
      "source": [
        "y = df2['microTopic']\n",
        "X = df2.loc[:, [\"followers\",\"followers_per_media\", \"followers_following_ratio\",\"interactions\",\"topicInCaptionsPercentage\", \"topicInWordsPercentage\", \"topicInPicsPercentage\",\"topicInPicsWordsPercentage\",\n",
        "\"positiveSentimentCaptions\",\"neutralSentimentCaptions\" ,\"negativeSentimentCaptions\",\"positiveSentimentPics\",\"neutralSentimentPics\" ,\"negativeSentimentPics\"]]\n",
        "X = X.to_numpy()\n",
        "X_train, X_test, y_train, y_test = train_test_split(X,y ,test_size=0.2, random_state=42)\n",
        "\n",
        "param_grid = {\n",
        "    'penalty': ['l1','l2', 'elasticnet'],\n",
        "    'learning_rate': ['constant', 'invscaling','optimal','adaptive'],\n",
        "    \n",
        "   \n",
        "}# Create a based model\n",
        "rf = SGDClassifier()# Instantiate the grid search model\n",
        "grid_search = GridSearchCV(estimator = rf, param_grid = param_grid, \n",
        "                           n_jobs = -1, verbose = 2)\n",
        "\n",
        "\n",
        "grid_search.fit(X_train, y_train)\n",
        "grid_search.best_params_"
      ],
      "metadata": {
        "id": "3aYS-QJOKxWW"
      },
      "execution_count": null,
      "outputs": []
    },
    {
      "cell_type": "code",
      "source": [
        "y = df2['microTopic']\n",
        "X = df2.loc[:, [\"followers\", \"followers_per_media\",\"followers_following_ratio\",\"interactions\",\"topicInCaptionsPercentage\", \"topicInWordsPercentage\", \"topicInPicsPercentage\",\"topicInPicsWordsPercentage\",\n",
        "\"positiveSentimentCaptions\",\"neutralSentimentCaptions\" ,\"negativeSentimentCaptions\",\"positiveSentimentPics\",\"neutralSentimentPics\" ,\"negativeSentimentPics\"]]\n",
        "X = X.to_numpy()\n",
        "X_train, X_test, y_train, y_test = train_test_split(X,y ,test_size=0.2, random_state=42)\n",
        "\n",
        "pipeline = Pipeline([\n",
        "    ('clf', SGDClassifier(learning_rate='optimal', penalty='elasticnet')),\n",
        "])\n",
        "\n",
        "# train classifier\n",
        "pipeline.fit(X_train, y_train)\n",
        "\n",
        "# evaluate all steps on test set\n",
        "predicted = pipeline.predict(X_test)\n",
        "\n",
        "print(\"SGD PIPELINE Accuracy Score -> \",accuracy_score(predicted, y_test)*100)\n",
        "print(\"Train accuracy ->\", accuracy_score(pipeline.predict(X_train), y_train)*100)\n",
        "tn, fp, fn, tp = confusion_matrix(y_test,predicted).ravel()\n",
        "print(\"tn, fp, fn, tp\", (tn, fp, fn, tp) )\n",
        "\n",
        "target_names = ['not_micro_influencer', 'micro_influencer']\n",
        "print(classification_report(y_test, predicted, target_names=target_names))"
      ],
      "metadata": {
        "id": "BXURwvN1Kxyw"
      },
      "execution_count": null,
      "outputs": []
    }
  ]
}
