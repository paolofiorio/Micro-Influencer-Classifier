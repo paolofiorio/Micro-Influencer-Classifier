{
  "nbformat": 4,
  "nbformat_minor": 0,
  "metadata": {
    "colab": {
      "name": "7_TwitterModelSelection.ipynb",
      "provenance": [],
      "collapsed_sections": [],
      "toc_visible": true,
      "authorship_tag": "ABX9TyNA0gT9jsaG6vKtWaoZ6Z0F",
      "include_colab_link": true
    },
    "kernelspec": {
      "name": "python3",
      "display_name": "Python 3"
    },
    "language_info": {
      "name": "python"
    }
  },
  "cells": [
    {
      "cell_type": "markdown",
      "metadata": {
        "id": "view-in-github",
        "colab_type": "text"
      },
      "source": [
        "<a href=\"https://colab.research.google.com/github/paolofiorio/Micro-Influencer-Classifier/blob/main/7_TwitterModelSelection.ipynb\" target=\"_parent\"><img src=\"https://colab.research.google.com/assets/colab-badge.svg\" alt=\"Open In Colab\"/></a>"
      ]
    },
    {
      "cell_type": "markdown",
      "source": [
        "# IMPORTS"
      ],
      "metadata": {
        "id": "68zWaHYfSL-r"
      }
    },
    {
      "cell_type": "code",
      "source": [
        "import pandas as pd\n",
        "import csv\n",
        "import os\n",
        "pd.set_option('display.max_rows', None)\n",
        "import sklearn\n",
        "from sklearn import svm\n",
        "from sklearn.feature_extraction.text import CountVectorizer\n",
        "from sklearn.model_selection import train_test_split\n",
        "from sklearn.naive_bayes import MultinomialNB\n",
        "from sklearn.pipeline import Pipeline\n",
        "from sklearn.feature_extraction.text import TfidfVectorizer,CountVectorizer,ENGLISH_STOP_WORDS,TfidfTransformer\n",
        "from sklearn.preprocessing import LabelEncoder\n",
        "from sklearn.metrics import confusion_matrix, classification_report, accuracy_score\n",
        "from sklearn.ensemble import RandomForestClassifier\n",
        "from sklearn.neural_network import MLPClassifier\n",
        "from sklearn.linear_model import LogisticRegression\n",
        "from sklearn.linear_model import SGDClassifier\n",
        "from sklearn.model_selection import GridSearchCV\n",
        "import torch\n",
        "!pip install xgboost==1.5.1\n",
        "from xgboost import XGBClassifier\n",
        "import pickle"
      ],
      "metadata": {
        "id": "BiNxhZYmJuOc"
      },
      "execution_count": null,
      "outputs": []
    },
    {
      "cell_type": "code",
      "source": [
        "# Clone github repository or import csv files"
      ],
      "metadata": {
        "id": "Awbt5MWkog3j"
      },
      "execution_count": null,
      "outputs": []
    },
    {
      "cell_type": "code",
      "source": [
        "df = pd.read_csv('Thesis/cleanTweetsSentiment.csv')\n",
        "df.head()"
      ],
      "metadata": {
        "id": "ZGy6CCqFohWn"
      },
      "execution_count": null,
      "outputs": []
    },
    {
      "cell_type": "markdown",
      "source": [
        "# MICRO CLASSIFICATION SECTION"
      ],
      "metadata": {
        "id": "8F1Md-VxSdNi"
      }
    },
    {
      "cell_type": "code",
      "source": [
        "df1 = df.drop(columns=['id','screen_name','topic','language','scores','microTopic','tweets'])\n",
        "\n",
        "df1.head()"
      ],
      "metadata": {
        "id": "8dJvvsxGohZk"
      },
      "execution_count": null,
      "outputs": []
    },
    {
      "cell_type": "markdown",
      "source": [
        "## RANDOM FOREST"
      ],
      "metadata": {
        "id": "7U6E1TiCt8JD"
      }
    },
    {
      "cell_type": "code",
      "source": [
        "y = df1['micro']\n",
        "X = df1.loc[:, [\"followers\", \"age\", \"followers_growth_rate\", \"followers_following_ratio\", \"tweet_freq\",\"interactions_no_retweets\",\"topicInTweetsPercentage\", \"topicInWordsPercentage\", \n",
        "\"positiveSentiment\",\"neutralSentiment\" ,\"negativeSentiment\"]]\n",
        "X = X.to_numpy()\n",
        "X_train, X_test, y_train, y_test = train_test_split(X,y ,test_size=0.2, random_state=42)\n",
        "\n",
        "param_grid = {\n",
        "    'bootstrap': [True,False],\n",
        "    'max_depth': [None,10],\n",
        "    'max_features': ['auto','sqrt'],\n",
        "    'criterion': ['gini','entropy'],\n",
        "    'min_samples_leaf':[1,2],\n",
        "    'min_samples_split': [2,3],\n",
        "    'n_estimators': [200,300]\n",
        "}# Create a based model\n",
        "\n",
        "rf = RandomForestClassifier()# Instantiate the grid search model\n",
        "grid_search = GridSearchCV(estimator = rf, param_grid = param_grid, \n",
        "                           n_jobs = -1, verbose = 2)\n",
        "\n",
        "grid_search.fit(X_train, y_train)\n",
        "grid_search.best_params_"
      ],
      "metadata": {
        "id": "q1TWJjgCQOSZ"
      },
      "execution_count": null,
      "outputs": []
    },
    {
      "cell_type": "code",
      "source": [
        "y = df1['micro']\n",
        "X = df1.loc[:, [\"followers\", \"age\", \"followers_growth_rate\", \"followers_following_ratio\", \"tweet_freq\",\"interactions_no_retweets\",\"topicInTweetsPercentage\", \"topicInWordsPercentage\", \n",
        "\"positiveSentiment\",\"neutralSentiment\" ,\"negativeSentiment\"]]\n",
        "X = X.to_numpy()\n",
        "X_train, X_test, y_train, y_test = train_test_split(X,y ,test_size=0.2, random_state=42)\n",
        "\n",
        "pipeline = Pipeline([\n",
        "    ('clf', RandomForestClassifier(n_estimators=200, min_samples_split=2, min_samples_leaf=1, criterion = 'gini',\n",
        "                                   max_features='auto', max_depth=None, bootstrap=True)),\n",
        "])\n",
        "\n",
        "# train classifier\n",
        "pipeline.fit(X_train, y_train)\n",
        "\n",
        "# evaluate all steps on test set\n",
        "predicted = pipeline.predict(X_test)\n",
        "\n",
        "print(\"RFC Accuracy Score -> \",accuracy_score(predicted, y_test)*100)\n",
        "print(\"Train accuracy ->\", accuracy_score(pipeline.predict(X_train), y_train)*100)\n",
        "tn, fp, fn, tp = confusion_matrix(y_test,predicted).ravel()\n",
        "print(\"tn, fp, fn, tp\", (tn, fp, fn, tp) )\n",
        "\n",
        "target_names = ['not_micro_influencer', 'micro_influencer']\n",
        "print(classification_report(y_test, predicted, target_names=target_names))"
      ],
      "metadata": {
        "id": "k8qy0De-ohjL"
      },
      "execution_count": null,
      "outputs": []
    },
    {
      "cell_type": "markdown",
      "source": [
        "## XGBOOST"
      ],
      "metadata": {
        "id": "W0oV8V4MUvqM"
      }
    },
    {
      "cell_type": "code",
      "source": [
        "y = df1['micro']\n",
        "X = df1.loc[:, [\"followers\", \"age\", \"followers_growth_rate\", \"followers_following_ratio\", \"tweet_freq\",\"interactions_no_retweets\",\"topicInTweetsPercentage\", \"topicInWordsPercentage\", \n",
        "\"positiveSentiment\",\"neutralSentiment\" ,\"negativeSentiment\"]]\n",
        "X = X.to_numpy()\n",
        "X_train, X_test, y_train, y_test = train_test_split(X,y ,test_size=0.2, random_state=42)\n",
        "\n",
        "param_grid = {\n",
        "    'booster': ['gbtree'],\n",
        "    'learning_rate':[0.01, 0.3],\n",
        "    'max_depth': [2,4,6],\n",
        "    'min_child_weight':[0.01, 0.5,1],\n",
        "    'gamma': [0, 0.5],\n",
        "    'n_estimators': [100,1000],\n",
        "    'alpha': [0,0.5],\n",
        "}# Create a based model\n",
        "rf = XGBClassifier()# Instantiate the grid search model\n",
        "grid_search = GridSearchCV(estimator = rf, param_grid = param_grid, \n",
        "                           n_jobs = -1, verbose = 2)\n",
        "\n",
        "\n",
        "grid_search.fit(X_train, y_train)\n",
        "grid_search.best_params_"
      ],
      "metadata": {
        "id": "zIWk3tiKXRIz"
      },
      "execution_count": null,
      "outputs": []
    },
    {
      "cell_type": "code",
      "source": [
        "y = df1['micro']\n",
        "X = df1.loc[:, [\"followers\", \"age\", \"followers_growth_rate\", \"followers_following_ratio\", \"tweet_freq\",\"interactions_no_retweets\",\"topicInTweetsPercentage\", \"topicInWordsPercentage\", \n",
        "\"positiveSentiment\",\"neutralSentiment\" ,\"negativeSentiment\"]]\n",
        "X = X.to_numpy()\n",
        "X_train, X_test, y_train, y_test = train_test_split(X,y ,test_size=0.2, random_state=42)\n",
        "\n",
        "model = XGBClassifier(alpha=0, booster ='gbtree',gamma = 0, learning_rate=0.01, max_depth=4, min_child_weight=0.01, n_estimators= 100 )\n",
        "# train classifier\n",
        "model.fit(X_train, y_train)\n",
        "\n",
        "# evaluate all steps on test set\n",
        "predicted = model.predict(X_test)\n",
        "\n",
        "print(\"RFC Accuracy Score -> \",accuracy_score(predicted, y_test)*100)\n",
        "print(\"Train accuracy ->\", accuracy_score(model.predict(X_train), y_train)*100)\n",
        "tn, fp, fn, tp = confusion_matrix(y_test,predicted).ravel()\n",
        "print(\"tn, fp, fn, tp\", (tn, fp, fn, tp) )\n",
        "\n",
        "target_names = ['not_micro_influencer', 'micro_influencer']\n",
        "print(classification_report(y_test, predicted, target_names=target_names))\n",
        "\n",
        "model.save_model(\"modelMicro.json\")"
      ],
      "metadata": {
        "id": "fyDVnjVWS6DF"
      },
      "execution_count": null,
      "outputs": []
    },
    {
      "cell_type": "code",
      "source": [
        "Pkl_Filename = \"Pickle_XGB_Model.pkl\"  \n",
        "\n",
        "with open(Pkl_Filename, 'wb') as file:  \n",
        "    pickle.dump(model, file)"
      ],
      "metadata": {
        "id": "d0c0xYFmlb25"
      },
      "execution_count": null,
      "outputs": []
    },
    {
      "cell_type": "code",
      "source": [
        "with open(Pkl_Filename, 'rb') as file:  \n",
        "    Pickled_XGB_Model = pickle.load(file)\n",
        "\n",
        "Pickled_XGB_Model"
      ],
      "metadata": {
        "id": "B0XWV20nlopb"
      },
      "execution_count": null,
      "outputs": []
    },
    {
      "cell_type": "code",
      "source": [
        "score = Pickled_XGB_Model.score(X_test, y_test)  \n",
        "# Print the Score\n",
        "print(\"Test score: {0:.2f} %\".format(100 * score))  \n",
        "\n",
        "Ypredict = Pickled_XGB_Model.predict(X_test)  \n",
        "\n",
        "Ypredict"
      ],
      "metadata": {
        "id": "87-VsMQxlxh8"
      },
      "execution_count": null,
      "outputs": []
    },
    {
      "cell_type": "code",
      "source": [
        "prova = df1.loc[1:2, [\"followers\", \"age\", \"followers_growth_rate\", \"followers_following_ratio\", \"tweet_freq\",\"interactions_no_retweets\",\"topicInTweetsPercentage\", \"topicInWordsPercentage\", \n",
        "\"positiveSentiment\",\"neutralSentiment\" ,\"negativeSentiment\"]]\n",
        "prova = prova.to_numpy()\n",
        "#print(X_test)\n",
        "#print(prova)\n",
        "Ypredict = Pickled_XGB_Model.predict(prova)  \n",
        "\n",
        "Ypredict"
      ],
      "metadata": {
        "id": "AQV_isQK0k45"
      },
      "execution_count": null,
      "outputs": []
    },
    {
      "cell_type": "markdown",
      "source": [
        "## SVC"
      ],
      "metadata": {
        "id": "1XeVjl6vVfB6"
      }
    },
    {
      "cell_type": "code",
      "source": [
        "y = df1['micro']\n",
        "X = df1.loc[:, [\"followers\", \"age\", \"followers_growth_rate\", \"followers_following_ratio\", \"tweet_freq\",\"interactions_no_retweets\",\"topicInTweetsPercentage\", \"topicInWordsPercentage\", \n",
        "\"positiveSentiment\",\"neutralSentiment\" ,\"negativeSentiment\"]]\n",
        "X = X.to_numpy()\n",
        "X_train, X_test, y_train, y_test = train_test_split(X,y ,test_size=0.2, random_state=42)\n",
        "\n",
        "param_grid = {\n",
        "    'penalty': ['l1','l2'],\n",
        "    'loss':['hinge', 'squared_hinge'],\n",
        "    'C': [0.1,0.5,1,10,100,1000,2000],\n",
        "    'dual': [False]\n",
        "   \n",
        "}# Create a based model\n",
        "rf = svm.LinearSVC()# Instantiate the grid search model\n",
        "grid_search = GridSearchCV(estimator = rf, param_grid = param_grid, \n",
        "                           n_jobs = -1, verbose = 2)\n",
        "\n",
        "\n",
        "grid_search.fit(X_train, y_train)\n",
        "grid_search.best_params_"
      ],
      "metadata": {
        "id": "g1hpr49lgBLc"
      },
      "execution_count": null,
      "outputs": []
    },
    {
      "cell_type": "code",
      "source": [
        "y = df1['micro']\n",
        "X = df1.loc[:, [\"followers\", \"age\", \"followers_growth_rate\", \"followers_following_ratio\", \"tweet_freq\",\"interactions_no_retweets\",\"topicInTweetsPercentage\", \"topicInWordsPercentage\", \n",
        "\"positiveSentiment\",\"neutralSentiment\" ,\"negativeSentiment\"]]\n",
        "X = X.to_numpy()\n",
        "X_train, X_test, y_train, y_test = train_test_split(X,y ,test_size=0.2, random_state=42)\n",
        "\n",
        "pipeline = Pipeline([\n",
        "    ('clf', svm.LinearSVC(C=0.1, loss='squared_hinge', penalty= 'l1', dual = False)),\n",
        "])\n",
        "\n",
        "# train classifier\n",
        "pipeline.fit(X_train, y_train)\n",
        "\n",
        "# evaluate all steps on test set\n",
        "predicted = pipeline.predict(X_test)\n",
        "\n",
        "print(\"LINEAR SVC PIPELINE Accuracy Score -> \",accuracy_score(predicted, y_test)*100)\n",
        "print(\"Train accuracy ->\", accuracy_score(pipeline.predict(X_train), y_train)*100)\n",
        "tn, fp, fn, tp = confusion_matrix(y_test,predicted).ravel()\n",
        "print(\"tn, fp, fn, tp\", (tn, fp, fn, tp) )\n",
        "\n",
        "target_names = ['not_micro_influencer', 'micro_influencer']\n",
        "print(classification_report(y_test, predicted, target_names=target_names))"
      ],
      "metadata": {
        "id": "tkgwG0FIuFz2"
      },
      "execution_count": null,
      "outputs": []
    },
    {
      "cell_type": "markdown",
      "source": [
        "## MLP"
      ],
      "metadata": {
        "id": "aon_-NtAV9Qc"
      }
    },
    {
      "cell_type": "code",
      "source": [
        "y = df1['micro']\n",
        "X = df1.loc[:, [\"followers\", \"age\", \"followers_growth_rate\", \"followers_following_ratio\", \"tweet_freq\",\"interactions_no_retweets\",\"topicInTweetsPercentage\", \"topicInWordsPercentage\", \n",
        "\"positiveSentiment\",\"neutralSentiment\" ,\"negativeSentiment\"]]\n",
        "X = X.to_numpy()\n",
        "X_train, X_test, y_train, y_test = train_test_split(X,y ,test_size=0.2, random_state=42)\n",
        "\n",
        "param_grid = {\n",
        "    'activation': ['identity','logistic', 'tanh', 'relu'],\n",
        "    'solver':['lbfgs', 'sgd', 'adam'],\n",
        "    'learning_rate': ['constant', 'invscaling'],\n",
        "    'max_iter': [500,600]\n",
        "    \n",
        "   \n",
        "}# Create a based model\n",
        "rf = MLPClassifier()# Instantiate the grid search model\n",
        "grid_search = GridSearchCV(estimator = rf, param_grid = param_grid, \n",
        "                           n_jobs = -1, verbose = 2)\n",
        "\n",
        "\n",
        "grid_search.fit(X_train, y_train)\n",
        "grid_search.best_params_"
      ],
      "metadata": {
        "id": "JRvRGJJFnViO"
      },
      "execution_count": null,
      "outputs": []
    },
    {
      "cell_type": "code",
      "source": [
        "y = df1['micro']\n",
        "X = df1.loc[:, [\"followers\", \"age\", \"followers_growth_rate\", \"followers_following_ratio\", \"tweet_freq\",\"interactions_no_retweets\",\"topicInTweetsPercentage\", \"topicInWordsPercentage\", \n",
        "\"positiveSentiment\",\"neutralSentiment\" ,\"negativeSentiment\"]]\n",
        "X = X.to_numpy()\n",
        "X_train, X_test, y_train, y_test = train_test_split(X,y ,test_size=0.2, random_state=42)\n",
        "\n",
        "pipeline = Pipeline([\n",
        "    ('clf', MLPClassifier(activation='logistic', learning_rate='invscaling', max_iter=500, solver='adam')),\n",
        "])\n",
        "\n",
        "# train classifier\n",
        "pipeline.fit(X_train, y_train)\n",
        "\n",
        "# evaluate all steps on test set\n",
        "predicted = pipeline.predict(X_test)\n",
        "\n",
        "print(\"MLP PIPELINE Accuracy Score -> \",accuracy_score(predicted, y_test)*100)\n",
        "print(\"Train accuracy ->\", accuracy_score(pipeline.predict(X_train), y_train)*100)\n",
        "tn, fp, fn, tp = confusion_matrix(y_test,predicted).ravel()\n",
        "print(\"tn, fp, fn, tp\", (tn, fp, fn, tp) )\n",
        "\n",
        "target_names = ['not_micro_influencer', 'micro_influencer']\n",
        "print(classification_report(y_test, predicted, target_names=target_names))"
      ],
      "metadata": {
        "id": "e64aKkxWuFcn"
      },
      "execution_count": null,
      "outputs": []
    },
    {
      "cell_type": "markdown",
      "source": [
        "## LOGISTIC REGRESSION"
      ],
      "metadata": {
        "id": "sYC2CcluWVyG"
      }
    },
    {
      "cell_type": "code",
      "source": [
        "y = df1['micro']\n",
        "X = df1.loc[:, [\"followers\", \"age\", \"followers_growth_rate\", \"followers_following_ratio\", \"tweet_freq\",\"interactions_no_retweets\",\"topicInTweetsPercentage\", \"topicInWordsPercentage\", \n",
        "\"positiveSentiment\",\"neutralSentiment\" ,\"negativeSentiment\"]]\n",
        "X = X.to_numpy()\n",
        "X_train, X_test, y_train, y_test = train_test_split(X,y ,test_size=0.2, random_state=42)\n",
        "\n",
        "param_grid = {\n",
        "    'penalty': ['l1','l2', 'elasticnet', 'none'],\n",
        "    'solver':['newton-cg', 'lbfgs', 'liblinear', 'sag', 'saga'],\n",
        "    'C': [1,10,100,1000]\n",
        "    \n",
        "   \n",
        "}# Create a based model\n",
        "rf = LogisticRegression()# Instantiate the grid search model\n",
        "grid_search = GridSearchCV(estimator = rf, param_grid = param_grid, \n",
        "                           n_jobs = -1, verbose = 2)\n",
        "\n",
        "\n",
        "grid_search.fit(X_train, y_train)\n",
        "grid_search.best_params_"
      ],
      "metadata": {
        "id": "K3dPL8fD6_T9"
      },
      "execution_count": null,
      "outputs": []
    },
    {
      "cell_type": "code",
      "source": [
        "y = df1['micro']\n",
        "X = df1.loc[:, [\"followers\", \"age\", \"followers_growth_rate\", \"followers_following_ratio\", \"tweet_freq\",\"interactions_no_retweets\",\"topicInTweetsPercentage\", \"topicInWordsPercentage\", \n",
        "\"positiveSentiment\",\"neutralSentiment\" ,\"negativeSentiment\"]]\n",
        "X = X.to_numpy()\n",
        "X_train, X_test, y_train, y_test = train_test_split(X,y ,test_size=0.2, random_state=42)\n",
        "\n",
        "pipeline = Pipeline([\n",
        " ('clf', LogisticRegression(C=10, penalty = 'l2', solver = 'liblinear')),\n",
        "])\n",
        "\n",
        "# train classifier\n",
        "pipeline.fit(X_train, y_train)\n",
        "\n",
        "# evaluate all steps on test set\n",
        "predicted = pipeline.predict(X_test)\n",
        "\n",
        "print(\"LOG REG PIPELINE Accuracy Score -> \",accuracy_score(predicted, y_test)*100)\n",
        "print(\"Train accuracy ->\", accuracy_score(pipeline.predict(X_train), y_train)*100)\n",
        "tn, fp, fn, tp = confusion_matrix(y_test,predicted).ravel()\n",
        "print(\"tn, fp, fn, tp\", (tn, fp, fn, tp) )\n",
        "\n",
        "target_names = ['not_micro_influencer', 'micro_influencer']\n",
        "print(classification_report(y_test, predicted, target_names=target_names))"
      ],
      "metadata": {
        "id": "xbI_1feiuzwZ"
      },
      "execution_count": null,
      "outputs": []
    },
    {
      "cell_type": "markdown",
      "source": [
        "## SGD"
      ],
      "metadata": {
        "id": "g6tJAah1WtNG"
      }
    },
    {
      "cell_type": "code",
      "source": [
        "y = df1['micro']\n",
        "X = df1.loc[:, [\"followers\", \"age\", \"followers_growth_rate\", \"followers_following_ratio\", \"tweet_freq\",\"interactions_no_retweets\",\"topicInTweetsPercentage\", \"topicInWordsPercentage\", \n",
        "\"positiveSentiment\",\"neutralSentiment\" ,\"negativeSentiment\"]]\n",
        "X = X.to_numpy()\n",
        "X_train, X_test, y_train, y_test = train_test_split(X,y ,test_size=0.2, random_state=42)\n",
        "\n",
        "param_grid = {\n",
        "    'penalty': ['l1','l2', 'elasticnet'],\n",
        "    'learning_rate': ['constant', 'invscaling','optimal','adaptive'],\n",
        "    \n",
        "   \n",
        "}# Create a based model\n",
        "rf = SGDClassifier()# Instantiate the grid search model\n",
        "grid_search = GridSearchCV(estimator = rf, param_grid = param_grid, \n",
        "                           n_jobs = -1, verbose = 2)\n",
        "\n",
        "\n",
        "grid_search.fit(X_train, y_train)\n",
        "grid_search.best_params_"
      ],
      "metadata": {
        "id": "Ec0qR04R8AeO"
      },
      "execution_count": null,
      "outputs": []
    },
    {
      "cell_type": "code",
      "source": [
        "y = df1['micro']\n",
        "X = df1.loc[:, [\"followers\", \"age\", \"followers_growth_rate\", \"followers_following_ratio\", \"tweet_freq\",\"interactions_no_retweets\",\"topicInTweetsPercentage\", \"topicInWordsPercentage\", \n",
        "\"positiveSentiment\",\"neutralSentiment\" ,\"negativeSentiment\"]]\n",
        "X = X.to_numpy()\n",
        "X_train, X_test, y_train, y_test = train_test_split(X,y ,test_size=0.2, random_state=42)\n",
        "\n",
        "pipeline = Pipeline([\n",
        "  ('clf', SGDClassifier(learning_rate='optimal', penalty='elasticnet')),\n",
        "])\n",
        "\n",
        "# train classifier\n",
        "pipeline.fit(X_train, y_train)\n",
        "\n",
        "# evaluate all steps on test set\n",
        "predicted = pipeline.predict(X_test)\n",
        "\n",
        "print(\"SGD PIPELINE Accuracy Score -> \",accuracy_score(predicted, y_test)*100)\n",
        "print(\"Train accuracy ->\", accuracy_score(pipeline.predict(X_train), y_train)*100)\n",
        "tn, fp, fn, tp = confusion_matrix(y_test,predicted).ravel()\n",
        "print(\"tn, fp, fn, tp\", (tn, fp, fn, tp) )\n",
        "\n",
        "target_names = ['not_micro_influencer', 'micro_influencer']\n",
        "print(classification_report(y_test, predicted, target_names=target_names))"
      ],
      "metadata": {
        "id": "Bpiva2V9u0MT"
      },
      "execution_count": null,
      "outputs": []
    },
    {
      "cell_type": "markdown",
      "source": [
        "# MICRO TOPIC CLASSIFICATION SECTION"
      ],
      "metadata": {
        "id": "KnDEJxP9Siis"
      }
    },
    {
      "cell_type": "code",
      "source": [
        "df2 = df.drop(columns=['id','screen_name','topic','language','scores','micro','tweets'])\n",
        "\n",
        "df2.head()"
      ],
      "metadata": {
        "id": "MdQOgf7Wohcj"
      },
      "execution_count": null,
      "outputs": []
    },
    {
      "cell_type": "markdown",
      "source": [
        "## RANDOM FOREST"
      ],
      "metadata": {
        "id": "yqHtPFpxUoX8"
      }
    },
    {
      "cell_type": "code",
      "source": [
        "y = df2['microTopic']\n",
        "X = df2.loc[:, [\"followers\", \"age\", \"followers_growth_rate\", \"followers_following_ratio\", \"tweet_freq\",\"interactions_no_retweets\",\"topicInTweetsPercentage\", \"topicInWordsPercentage\", \n",
        "\"positiveSentiment\",\"neutralSentiment\" ,\"negativeSentiment\"]]\n",
        "X = X.to_numpy()\n",
        "X_train, X_test, y_train, y_test = train_test_split(X,y ,test_size=0.2, random_state=42)\n",
        "\n",
        "param_grid = {\n",
        "    'bootstrap': [True,False],\n",
        "    'max_depth': [None,10],\n",
        "    'max_features': ['auto','sqrt'],\n",
        "    'criterion': ['gini','entropy'],\n",
        "    'min_samples_leaf':[1,2],\n",
        "    'min_samples_split': [2,3],\n",
        "    'n_estimators': [200,300]\n",
        "}# Create a based model\n",
        "\n",
        "rf = RandomForestClassifier()# Instantiate the grid search model\n",
        "grid_search = GridSearchCV(estimator = rf, param_grid = param_grid, \n",
        "                           n_jobs = -1, verbose = 2)\n",
        "\n",
        "\n",
        "grid_search.fit(X_train, y_train)\n",
        "grid_search.best_params_"
      ],
      "metadata": {
        "id": "4uHiReaE_UXJ"
      },
      "execution_count": null,
      "outputs": []
    },
    {
      "cell_type": "code",
      "source": [
        "y = df2['microTopic']\n",
        "X = df2.loc[:, [\"followers\", \"age\", \"followers_growth_rate\", \"followers_following_ratio\", \"tweet_freq\",\"interactions_no_retweets\",\"topicInTweetsPercentage\", \"topicInWordsPercentage\", \n",
        "\"positiveSentiment\",\"neutralSentiment\" ,\"negativeSentiment\"]]\n",
        "X = X.to_numpy()\n",
        "X_train, X_test, y_train, y_test = train_test_split(X,y ,test_size=0.2, random_state=42)\n",
        "\n",
        "pipeline = Pipeline([\n",
        "    ('clf', RandomForestClassifier(n_estimators=300, min_samples_split=2, min_samples_leaf=1, criterion = 'gini',\n",
        "                                   max_features='sqrt', max_depth=10, bootstrap=False)),\n",
        "])\n",
        "\n",
        "# train classifier\n",
        "pipeline.fit(X_train, y_train)\n",
        "\n",
        "# evaluate all steps on test set\n",
        "predicted = pipeline.predict(X_test)\n",
        "\n",
        "print(\"RFC Accuracy Score -> \",accuracy_score(predicted, y_test)*100)\n",
        "print(\"Train accuracy ->\", accuracy_score(pipeline.predict(X_train), y_train)*100)\n",
        "tn, fp, fn, tp = confusion_matrix(y_test,predicted).ravel()\n",
        "print(\"tn, fp, fn, tp\", (tn, fp, fn, tp) )\n",
        "\n",
        "target_names = ['not_micro_influencer', 'micro_influencer']\n",
        "print(classification_report(y_test, predicted, target_names=target_names))"
      ],
      "metadata": {
        "id": "m5ZKwMzLohmS"
      },
      "execution_count": null,
      "outputs": []
    },
    {
      "cell_type": "markdown",
      "source": [
        "## XGBOOST"
      ],
      "metadata": {
        "id": "MPS-GKu5S6Qt"
      }
    },
    {
      "cell_type": "code",
      "source": [
        "y = df2['microTopic']\n",
        "X = df2.loc[:, [\"followers\", \"age\", \"followers_growth_rate\", \"followers_following_ratio\", \"tweet_freq\",\"interactions_no_retweets\",\"topicInTweetsPercentage\", \"topicInWordsPercentage\", \n",
        "\"positiveSentiment\",\"neutralSentiment\" ,\"negativeSentiment\"]]\n",
        "X = X.to_numpy()\n",
        "X_train, X_test, y_train, y_test = train_test_split(X,y ,test_size=0.2, random_state=42)\n",
        "\n",
        "param_grid = {\n",
        "    'booster': ['gbtree'],\n",
        "    'learning_rate':[0.01, 0.3],\n",
        "    'max_depth': [3,4,5],\n",
        "    'min_child_weight':[0.01, 0.5,1],\n",
        "    'gamma': [0, 0.5,1],\n",
        "    'n_estimators': [500,1000],\n",
        "    'alpha': [0,0.05],\n",
        "}# Create a based model\n",
        "rf = XGBClassifier()# Instantiate the grid search model\n",
        "grid_search = GridSearchCV(estimator = rf, param_grid = param_grid, \n",
        "                           n_jobs = -1, verbose = 2)\n",
        "\n",
        "\n",
        "grid_search.fit(X_train, y_train)\n",
        "grid_search.best_params_"
      ],
      "metadata": {
        "id": "1n3N2PpUYza3"
      },
      "execution_count": null,
      "outputs": []
    },
    {
      "cell_type": "code",
      "source": [
        "y = df2['microTopic']\n",
        "X = df2.loc[:, [\"followers\", \"age\", \"followers_growth_rate\", \"followers_following_ratio\", \"tweet_freq\",\"interactions_no_retweets\",\"topicInTweetsPercentage\", \"topicInWordsPercentage\", \n",
        "\"positiveSentiment\",\"neutralSentiment\" ,\"negativeSentiment\"]]\n",
        "X = X.to_numpy()\n",
        "X_train, X_test, y_train, y_test = train_test_split(X,y ,test_size=0.2, random_state=42)\n",
        "\n",
        "model = XGBClassifier(alpha=0, booster ='gbtree',gamma = 0.5, learning_rate=0.01, max_depth=4, min_child_weight=0.5, n_estimators= 500 )\n",
        "# train classifier\n",
        "model.fit(X_train, y_train)\n",
        "\n",
        "# evaluate all steps on test set\n",
        "predicted = model.predict(X_test)\n",
        "\n",
        "print(\"RFC Accuracy Score -> \",accuracy_score(predicted, y_test)*100)\n",
        "print(\"Train accuracy ->\", accuracy_score(model.predict(X_train), y_train)*100)\n",
        "tn, fp, fn, tp = confusion_matrix(y_test,predicted).ravel()\n",
        "print(\"tn, fp, fn, tp\", (tn, fp, fn, tp) )\n",
        "\n",
        "target_names = ['not_micro_influencer', 'micro_influencer']\n",
        "print(classification_report(y_test, predicted, target_names=target_names))\n",
        "model.save_model(\"modelMicroTopic.json\")"
      ],
      "metadata": {
        "id": "QhBavnZHS5Dv"
      },
      "execution_count": null,
      "outputs": []
    },
    {
      "cell_type": "code",
      "source": [
        "Pkl_Filename = \"Pickle_XGB_ModelMicroTopic.pkl\"  \n",
        "\n",
        "with open(Pkl_Filename, 'wb') as file:  \n",
        "    pickle.dump(model, file)"
      ],
      "metadata": {
        "id": "uhZEDbHH5QAq"
      },
      "execution_count": null,
      "outputs": []
    },
    {
      "cell_type": "markdown",
      "source": [
        "## SVC"
      ],
      "metadata": {
        "id": "Infd3GBYuKaN"
      }
    },
    {
      "cell_type": "code",
      "source": [
        "y = df2['microTopic']\n",
        "X = df2.loc[:, [\"followers\", \"age\", \"followers_growth_rate\", \"followers_following_ratio\", \"tweet_freq\",\"interactions_no_retweets\",\"topicInTweetsPercentage\", \"topicInWordsPercentage\", \n",
        "\"positiveSentiment\",\"neutralSentiment\" ,\"negativeSentiment\"]]\n",
        "X = X.to_numpy()\n",
        "X_train, X_test, y_train, y_test = train_test_split(X,y ,test_size=0.2, random_state=42)\n",
        "\n",
        "param_grid = {\n",
        "    'penalty': ['l1','l2'],\n",
        "    'loss':['hinge', 'squared_hinge'],\n",
        "    'C': [0.1,0.5,1,10,100,1000,2000],\n",
        "    'dual': [False]\n",
        "}# Create a based model\n",
        "rf = svm.LinearSVC()# Instantiate the grid search model\n",
        "grid_search = GridSearchCV(estimator = rf, param_grid = param_grid, \n",
        "                           n_jobs = -1, verbose = 2)\n",
        "\n",
        "\n",
        "grid_search.fit(X_train, y_train)\n",
        "grid_search.best_params_"
      ],
      "metadata": {
        "id": "Bf7-CmTIjJnT"
      },
      "execution_count": null,
      "outputs": []
    },
    {
      "cell_type": "code",
      "source": [
        "y = df2['microTopic']\n",
        "X = df2.loc[:, [\"followers\", \"age\", \"followers_growth_rate\", \"followers_following_ratio\", \"tweet_freq\",\"interactions_no_retweets\",\"topicInTweetsPercentage\", \"topicInWordsPercentage\", \n",
        "\"positiveSentiment\",\"neutralSentiment\" ,\"negativeSentiment\"]]\n",
        "X = X.to_numpy()\n",
        "X_train, X_test, y_train, y_test = train_test_split(X,y ,test_size=0.2, random_state=42)\n",
        "\n",
        "pipeline = Pipeline([\n",
        "    ('clf', svm.LinearSVC(C=10, loss='squared_hinge', penalty= 'l1', dual = False)),\n",
        "])\n",
        "\n",
        "# train classifier\n",
        "pipeline.fit(X_train, y_train)\n",
        "\n",
        "# evaluate all steps on test set\n",
        "predicted = pipeline.predict(X_test)\n",
        "\n",
        "print(\"LINEAR SVC PIPELINE Accuracy Score -> \",accuracy_score(predicted, y_test)*100)\n",
        "print(\"Train accuracy ->\", accuracy_score(pipeline.predict(X_train), y_train)*100)\n",
        "tn, fp, fn, tp = confusion_matrix(y_test,predicted).ravel()\n",
        "print(\"tn, fp, fn, tp\", (tn, fp, fn, tp) )\n",
        "\n",
        "target_names = ['not_micro_influencer', 'micro_influencer']\n",
        "print(classification_report(y_test, predicted, target_names=target_names))"
      ],
      "metadata": {
        "id": "dS9WUQcBuFk3"
      },
      "execution_count": null,
      "outputs": []
    },
    {
      "cell_type": "markdown",
      "source": [
        "## MLP"
      ],
      "metadata": {
        "id": "GlEYC-NZug2B"
      }
    },
    {
      "cell_type": "code",
      "source": [
        "y = df2['microTopic']\n",
        "X = df2.loc[:, [\"followers\", \"age\", \"followers_growth_rate\", \"followers_following_ratio\", \"tweet_freq\",\"interactions_no_retweets\",\"topicInTweetsPercentage\", \"topicInWordsPercentage\", \n",
        "\"positiveSentiment\",\"neutralSentiment\" ,\"negativeSentiment\"]]\n",
        "X = X.to_numpy()\n",
        "X_train, X_test, y_train, y_test = train_test_split(X,y ,test_size=0.2, random_state=42)\n",
        "\n",
        "param_grid = {\n",
        "    'activation': ['identity','logistic', 'tanh', 'relu'],\n",
        "    'solver':['lbfgs', 'sgd', 'adam'],\n",
        "    'learning_rate': ['constant', 'invscaling'],\n",
        "    'max_iter': [500,600]\n",
        "    \n",
        "   \n",
        "}# Create a based model\n",
        "rf = MLPClassifier()# Instantiate the grid search model\n",
        "grid_search = GridSearchCV(estimator = rf, param_grid = param_grid, \n",
        "                           n_jobs = -1, verbose = 2)\n",
        "\n",
        "\n",
        "grid_search.fit(X_train, y_train)\n",
        "grid_search.best_params_"
      ],
      "metadata": {
        "id": "Jt7VrCYD2fGF"
      },
      "execution_count": null,
      "outputs": []
    },
    {
      "cell_type": "code",
      "source": [
        "y = df2['microTopic']\n",
        "X = df2.loc[:, [\"followers\", \"age\", \"followers_growth_rate\", \"followers_following_ratio\", \"tweet_freq\",\"interactions_no_retweets\",\"topicInTweetsPercentage\", \"topicInWordsPercentage\", \n",
        "\"positiveSentiment\",\"neutralSentiment\" ,\"negativeSentiment\"]]\n",
        "X = X.to_numpy()\n",
        "X_train, X_test, y_train, y_test = train_test_split(X,y ,test_size=0.2, random_state=42)\n",
        "\n",
        "pipeline = Pipeline([\n",
        "    ('clf', MLPClassifier(activation='logistic', learning_rate='constant', max_iter=500, solver='adam')),\n",
        "])\n",
        "\n",
        "# train classifier\n",
        "pipeline.fit(X_train, y_train)\n",
        "\n",
        "# evaluate all steps on test set\n",
        "predicted = pipeline.predict(X_test)\n",
        "\n",
        "print(\"MLP PIPELINE Accuracy Score -> \",accuracy_score(predicted, y_test)*100)\n",
        "print(\"Train accuracy ->\", accuracy_score(pipeline.predict(X_train), y_train)*100)\n",
        "tn, fp, fn, tp = confusion_matrix(y_test,predicted).ravel()\n",
        "print(\"tn, fp, fn, tp\", (tn, fp, fn, tp) )\n",
        "\n",
        "target_names = ['not_micro_influencer', 'micro_influencer']\n",
        "print(classification_report(y_test, predicted, target_names=target_names))"
      ],
      "metadata": {
        "id": "jvtMjQ4FuFTY"
      },
      "execution_count": null,
      "outputs": []
    },
    {
      "cell_type": "markdown",
      "source": [
        "## LOGISTIC REGRESSION"
      ],
      "metadata": {
        "id": "D173teI2uwtv"
      }
    },
    {
      "cell_type": "code",
      "source": [
        "y = df2['microTopic']\n",
        "X = df2.loc[:, [\"followers\", \"age\", \"followers_growth_rate\", \"followers_following_ratio\", \"tweet_freq\",\"interactions_no_retweets\",\"topicInTweetsPercentage\", \"topicInWordsPercentage\", \n",
        "\"positiveSentiment\",\"neutralSentiment\" ,\"negativeSentiment\"]]\n",
        "X = X.to_numpy()\n",
        "X_train, X_test, y_train, y_test = train_test_split(X,y ,test_size=0.2, random_state=42)\n",
        "\n",
        "param_grid = {\n",
        "    'penalty': ['l1','l2', 'elasticnet', 'none'],\n",
        "    'solver':['newton-cg', 'lbfgs', 'liblinear', 'sag', 'saga'],\n",
        "    'C': [1,10,100,1000]\n",
        "    \n",
        "   \n",
        "}# Create a based model\n",
        "rf = LogisticRegression()# Instantiate the grid search model\n",
        "grid_search = GridSearchCV(estimator = rf, param_grid = param_grid, \n",
        "                           n_jobs = -1, verbose = 2)\n",
        "\n",
        "\n",
        "grid_search.fit(X_train, y_train)\n",
        "grid_search.best_params_"
      ],
      "metadata": {
        "id": "GFLwc0Nr7wVj"
      },
      "execution_count": null,
      "outputs": []
    },
    {
      "cell_type": "code",
      "source": [
        "y = df2['microTopic']\n",
        "X = df2.loc[:, [\"followers\", \"age\", \"followers_growth_rate\", \"followers_following_ratio\", \"tweet_freq\",\"interactions_no_retweets\",\"topicInTweetsPercentage\", \"topicInWordsPercentage\", \n",
        "\"positiveSentiment\",\"neutralSentiment\" ,\"negativeSentiment\"]]\n",
        "X = X.to_numpy()\n",
        "X_train, X_test, y_train, y_test = train_test_split(X,y ,test_size=0.2, random_state=42)\n",
        "\n",
        "pipeline = Pipeline([\n",
        "    ('clf', LogisticRegression(C=100, penalty='l1', solver='liblinear')),\n",
        "])\n",
        "\n",
        "# train classifier\n",
        "pipeline.fit(X_train, y_train)\n",
        "\n",
        "# evaluate all steps on test set\n",
        "predicted = pipeline.predict(X_test)\n",
        "\n",
        "print(\"LOG REG PIPELINE Accuracy Score -> \",accuracy_score(predicted, y_test)*100)\n",
        "print(\"Train accuracy ->\", accuracy_score(pipeline.predict(X_train), y_train)*100)\n",
        "tn, fp, fn, tp = confusion_matrix(y_test,predicted).ravel()\n",
        "print(\"tn, fp, fn, tp\", (tn, fp, fn, tp) )\n",
        "\n",
        "target_names = ['not_micro_influencer', 'micro_influencer']\n",
        "print(classification_report(y_test, predicted, target_names=target_names))"
      ],
      "metadata": {
        "id": "IM2o8CTcu0Yr"
      },
      "execution_count": null,
      "outputs": []
    },
    {
      "cell_type": "markdown",
      "source": [
        "## SGD"
      ],
      "metadata": {
        "id": "Eq0iuXNPvIdX"
      }
    },
    {
      "cell_type": "code",
      "source": [
        "y = df2['microTopic']\n",
        "X = df2.loc[:, [\"followers\", \"age\", \"followers_growth_rate\", \"followers_following_ratio\", \"tweet_freq\",\"interactions_no_retweets\",\"topicInTweetsPercentage\", \"topicInWordsPercentage\", \n",
        "\"positiveSentiment\",\"neutralSentiment\" ,\"negativeSentiment\"]]\n",
        "X = X.to_numpy()\n",
        "X_train, X_test, y_train, y_test = train_test_split(X,y ,test_size=0.2, random_state=42)\n",
        "\n",
        "param_grid = {\n",
        "    'penalty': ['l1','l2', 'elasticnet'],\n",
        "    'learning_rate': ['constant', 'invscaling','optimal','adaptive'],\n",
        "    \n",
        "   \n",
        "}# Create a based model\n",
        "rf = SGDClassifier()# Instantiate the grid search model\n",
        "grid_search = GridSearchCV(estimator = rf, param_grid = param_grid, \n",
        "                           n_jobs = -1, verbose = 2)\n",
        "\n",
        "\n",
        "grid_search.fit(X_train, y_train)\n",
        "grid_search.best_params_"
      ],
      "metadata": {
        "id": "FBBZzi7d_l-z"
      },
      "execution_count": null,
      "outputs": []
    },
    {
      "cell_type": "code",
      "source": [
        "y = df2['microTopic']\n",
        "X = df2.loc[:, [\"followers\", \"age\", \"followers_growth_rate\", \"followers_following_ratio\", \"tweet_freq\",\"interactions_no_retweets\",\"topicInTweetsPercentage\", \"topicInWordsPercentage\", \n",
        "\"positiveSentiment\",\"neutralSentiment\" ,\"negativeSentiment\"]]\n",
        "X = X.to_numpy()\n",
        "X_train, X_test, y_train, y_test = train_test_split(X,y ,test_size=0.2, random_state=42)\n",
        "\n",
        "pipeline = Pipeline([\n",
        "    ('clf', SGDClassifier(learning_rate='optimal', penalty='l1')),\n",
        "])\n",
        "\n",
        "# train classifier\n",
        "pipeline.fit(X_train, y_train)\n",
        "\n",
        "# evaluate all steps on test set\n",
        "predicted = pipeline.predict(X_test)\n",
        "\n",
        "print(\"SGD PIPELINE Accuracy Score -> \",accuracy_score(predicted, y_test)*100)\n",
        "print(\"Train accuracy ->\", accuracy_score(pipeline.predict(X_train), y_train)*100)\n",
        "tn, fp, fn, tp = confusion_matrix(y_test,predicted).ravel()\n",
        "print(\"tn, fp, fn, tp\", (tn, fp, fn, tp) )\n",
        "\n",
        "target_names = ['not_micro_influencer', 'micro_influencer']\n",
        "print(classification_report(y_test, predicted, target_names=target_names))"
      ],
      "metadata": {
        "id": "weSp7ItCuz-H"
      },
      "execution_count": null,
      "outputs": []
    }
  ]
}
